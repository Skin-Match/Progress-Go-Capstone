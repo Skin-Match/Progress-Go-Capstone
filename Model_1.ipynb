{
  "nbformat": 4,
  "nbformat_minor": 0,
  "metadata": {
    "colab": {
      "provenance": []
    },
    "kernelspec": {
      "name": "python3",
      "display_name": "Python 3"
    },
    "language_info": {
      "name": "python"
    }
  },
  "cells": [
    {
      "cell_type": "code",
      "source": [
        "import pandas as pd"
      ],
      "metadata": {
        "id": "yAYGPPNcPSVV"
      },
      "execution_count": 1,
      "outputs": []
    },
    {
      "cell_type": "code",
      "execution_count": 9,
      "metadata": {
        "colab": {
          "base_uri": "https://localhost:8080/"
        },
        "id": "6o8K3uwiPOer",
        "outputId": "3b2fd249-fab0-4504-87a7-9be4f57b1d34"
      },
      "outputs": [
        {
          "output_type": "stream",
          "name": "stdout",
          "text": [
            "                                             Ingredient  Combination  Dry  \\\n",
            "0                               Algae (Seaweed) Extract           14   14   \n",
            "1                                           Mineral Oil            4    4   \n",
            "2                                            Petrolatum           19   21   \n",
            "3                                              Glycerin          676  637   \n",
            "4                                         Isohexadecane           51   52   \n",
            "...                                                 ...          ...  ...   \n",
            "6488  Citrus aurantium amara (Bitter orange) flower oil            0    0   \n",
            "6489                                Dimethyl isosorbide            0    0   \n",
            "6490                                          Tin oxide            0    0   \n",
            "6491                             CI 77491 (Iron oxides)            0    0   \n",
            "6492                      Visit the DERMAFLASH boutique            1    1   \n",
            "\n",
            "      Normal  Oily  Sensitive  \n",
            "0         15    15         14  \n",
            "1          4     4          4  \n",
            "2         18    15         14  \n",
            "3        671   627        522  \n",
            "4         53    50         36  \n",
            "...      ...   ...        ...  \n",
            "6488       0     0          0  \n",
            "6489       0     0          0  \n",
            "6490       0     0          0  \n",
            "6491       0     0          0  \n",
            "6492       1     1          1  \n",
            "\n",
            "[6493 rows x 6 columns]\n"
          ]
        }
      ],
      "source": [
        "data = pd.read_csv(\"ingredient_analysis (1).csv\")\n",
        "print(data)"
      ]
    },
    {
      "cell_type": "code",
      "source": [
        "# Daftar kandungan yang dihindari (variabel global)\n",
        "avoided_ingredients = [\"Fragrance\", \"Parabens\",\"Algae\"]"
      ],
      "metadata": {
        "id": "lo1OwMw3PULb"
      },
      "execution_count": 10,
      "outputs": []
    },
    {
      "cell_type": "code",
      "source": [
        "# Fungsi untuk memeriksa kecocokan kandungan dengan jenis kulit tertentu\n",
        "def check_compatibility(ingredients_list, skin_type, data):\n",
        "    # Memeriksa apakah ada kandungan yang harus dihindari atau tidak cocok untuk jenis kulit\n",
        "    avoided_found = False\n",
        "    for ingredient in ingredients_list:\n",
        "        for avoided in avoided_ingredients:\n",
        "            if avoided.lower() in ingredient.lower():\n",
        "                avoided_found = True\n",
        "                return f\"Tidak cocok! karena {ingredient} merupakan kandungan yang harus Anda hindari.\"\n",
        "\n",
        "    # Iterasi untuk setiap kandungan yang diberikan\n",
        "    for ingredient in ingredients_list:\n",
        "        if ingredient in data['Ingredient'].values:\n",
        "            if data.loc[data['Ingredient'] == ingredient, skin_type].values[0] == 0:\n",
        "                return f\"Tidak cocok! karena {ingredient} tidak dianjurkan untuk jenis kulit {skin_type}.\"\n",
        "\n",
        "    # Jika tidak ada kandungan yang mengandung 0 untuk jenis kulit tertentu\n",
        "    return \"Cocok!\""
      ],
      "metadata": {
        "id": "xYJJnA2UPcL_"
      },
      "execution_count": 11,
      "outputs": []
    },
    {
      "cell_type": "code",
      "source": [
        "# Daftar kandungan yang ingin dicek\n",
        "ingredients_to_check = [ \"Lanolin Alcohol \",\"Glycerin\", \"Citrus Aurantifolia (Lime) Extract\", \"Bacillus/Soybean/ Folic Acid Ferment Extract\"]\n"
      ],
      "metadata": {
        "id": "PR66vsGUPmim"
      },
      "execution_count": 12,
      "outputs": []
    },
    {
      "cell_type": "code",
      "source": [
        "# Memeriksa kecocokan untuk jenis kulit 'Combination'\n",
        "skin_type = \"Combination\"\n",
        "print(check_compatibility(ingredients_to_check, skin_type, data))"
      ],
      "metadata": {
        "colab": {
          "base_uri": "https://localhost:8080/"
        },
        "id": "grduErwePfVU",
        "outputId": "39a9b416-8106-4655-f83e-6d6e725ecebc"
      },
      "execution_count": 13,
      "outputs": [
        {
          "output_type": "stream",
          "name": "stdout",
          "text": [
            "Cocok!\n"
          ]
        }
      ]
    },
    {
      "cell_type": "code",
      "source": [
        "# Memeriksa kecocokan untuk jenis kulit 'Sensitive'\n",
        "skin_type = \"Sensitive\"\n",
        "print(check_compatibility(ingredients_to_check, skin_type, data))"
      ],
      "metadata": {
        "colab": {
          "base_uri": "https://localhost:8080/"
        },
        "id": "ty4FtAF-PrIj",
        "outputId": "5968e22a-31e7-4776-d048-7279787022e2"
      },
      "execution_count": 14,
      "outputs": [
        {
          "output_type": "stream",
          "name": "stdout",
          "text": [
            "Tidak cocok! karena Bacillus/Soybean/ Folic Acid Ferment Extract tidak dianjurkan untuk jenis kulit Sensitive.\n"
          ]
        }
      ]
    }
  ]
}